{
  "nbformat": 4,
  "nbformat_minor": 0,
  "metadata": {
    "colab": {
      "name": "PDSA.ipynb",
      "provenance": [],
      "collapsed_sections": [],
      "authorship_tag": "ABX9TyPVL6qNCmAI/gYtk+rEBgR3",
      "include_colab_link": true
    },
    "kernelspec": {
      "name": "python3",
      "display_name": "Python 3"
    },
    "language_info": {
      "name": "python"
    }
  },
  "cells": [
    {
      "cell_type": "markdown",
      "metadata": {
        "id": "view-in-github",
        "colab_type": "text"
      },
      "source": [
        "<a href=\"https://colab.research.google.com/github/R-DK/Repo3/blob/main/PDSA.ipynb\" target=\"_parent\"><img src=\"https://colab.research.google.com/assets/colab-badge.svg\" alt=\"Open In Colab\"/></a>"
      ]
    },
    {
      "cell_type": "markdown",
      "source": [
        "# **WEEK-2**\n",
        "\n",
        "### **BINARY SEARCH**"
      ],
      "metadata": {
        "id": "FV_VuWI7vK6X"
      }
    },
    {
      "cell_type": "code",
      "execution_count": null,
      "metadata": {
        "id": "2P9dW8aYvI86"
      },
      "outputs": [],
      "source": [
        "def binarySearch(value, L):  #recursive algorithm\n",
        "  if L==[]:  # if list empty return false\n",
        "    return(False)\n",
        "  \n",
        "  m = len(L)//2 # middle index\n",
        "\n",
        "  if value == L[m]: \n",
        "    return(True)\n",
        "  \n",
        "  if value>L[m]:\n",
        "    return binarySearch(value, L[m+1:])\n",
        "  else:\n",
        "    return binarySearch(value, L[:m])"
      ]
    },
    {
      "cell_type": "code",
      "source": [
        "L = list(map(int, input().split()))\n",
        "L.sort()\n",
        "val = int(input())\n",
        "if(binarySearch(val, L)):\n",
        "  print(\"Found\")\n",
        "else:\n",
        "  print(\"Not found\")"
      ],
      "metadata": {
        "colab": {
          "base_uri": "https://localhost:8080/"
        },
        "id": "tpV1sxBZwwDQ",
        "outputId": "60fe71f7-3076-4d30-a2a1-a9fabb48d175"
      },
      "execution_count": null,
      "outputs": [
        {
          "output_type": "stream",
          "name": "stdout",
          "text": [
            "99 100 1 3 4 88 345 9\n",
            "10\n",
            "Not found\n"
          ]
        }
      ]
    },
    {
      "cell_type": "markdown",
      "source": [
        "###**SELECTION SORT**"
      ],
      "metadata": {
        "id": "g0M68w8iGX8z"
      }
    },
    {
      "cell_type": "code",
      "source": [
        "def findMin(L):\n",
        "  minimum = L[0]\n",
        "  for index in range(1, len(L)):\n",
        "    if L[index] < minimum:\n",
        "      minimum = L[index]\n",
        "  return minimum"
      ],
      "metadata": {
        "id": "Pw5z8RCLGvjX"
      },
      "execution_count": null,
      "outputs": []
    },
    {
      "cell_type": "markdown",
      "source": [
        "Using a second list"
      ],
      "metadata": {
        "id": "JO2zD1qnucER"
      }
    },
    {
      "cell_type": "code",
      "source": [
        "def selectionSort(L):\n",
        "  if L==[]:\n",
        "    return []\n",
        "  sortedList = []\n",
        "  length = len(L)\n",
        "  while(L != []):\n",
        "    minimum = findMin(L)\n",
        "    sortedList.append(minimum)\n",
        "    L.remove(minimum)\n",
        "  return sortedList"
      ],
      "metadata": {
        "id": "zjIlTAnFGdW5"
      },
      "execution_count": null,
      "outputs": []
    },
    {
      "cell_type": "markdown",
      "source": [
        "Without using a second list"
      ],
      "metadata": {
        "id": "5rQLg2bYuf0z"
      }
    },
    {
      "cell_type": "code",
      "source": [
        "def selectionSort(L):\n",
        "  n = len(L)\n",
        "  if n<1: # If the list is empty then return empty list\n",
        "    return L\n",
        "  for i in range(n):\n",
        "    # minVal = L[i] # consider the current value as the minimum value\n",
        "    minPos = i # consider the current postion as minimum value position\n",
        "    for j in range(i+1, n):\n",
        "      if L[j] < L[minPos]:\n",
        "        #minVal = L[j]\n",
        "        minPos = j  # position of the minimum element in the rest of the list i.e from L[i+1:]\n",
        "    (L[i], L[minPos]) = (L[minPos], L[i]) \n",
        "  return L"
      ],
      "metadata": {
        "id": "KzCOMvq6ukdl"
      },
      "execution_count": null,
      "outputs": []
    },
    {
      "cell_type": "code",
      "source": [
        "L = [0, 8, 9, 1, 4, 3, 111, 5]\n",
        "print(selectionSort(L))"
      ],
      "metadata": {
        "colab": {
          "base_uri": "https://localhost:8080/"
        },
        "id": "bW6-KCFbHPBd",
        "outputId": "5f44e571-c32a-4b95-df9c-0ec316785577"
      },
      "execution_count": null,
      "outputs": [
        {
          "output_type": "stream",
          "name": "stdout",
          "text": [
            "[0, 1, 3, 4, 5, 8, 9, 111]\n"
          ]
        }
      ]
    },
    {
      "cell_type": "markdown",
      "source": [
        "###**INSERTION SORT**\n",
        "\n",
        "- Iterative version\n"
      ],
      "metadata": {
        "id": "PzM5eIbsau1-"
      }
    },
    {
      "cell_type": "code",
      "source": [
        "def InsertionSort(L):\n",
        "  n = len(L)\n",
        "  if(n<1): # If list is empty then return an empty list\n",
        "    return(L)\n",
        "  for i in range(n):\n",
        "    j=i  # consider L[:i] is sorted\n",
        "    while(j>0 and L[j] < L[j-1]):  # insert L[i] in the correct position\n",
        "      (L[j], L[j-1]) = (L[j-1], L[j])\n",
        "      j = j - 1 \n",
        "    # now L[:i+1] is sorted\n",
        "  return(L)"
      ],
      "metadata": {
        "id": "AljzKluOayqp"
      },
      "execution_count": null,
      "outputs": []
    },
    {
      "cell_type": "code",
      "source": [
        "L = list(map(int, input().split()))\n",
        "print(InsertionSort(L))"
      ],
      "metadata": {
        "colab": {
          "base_uri": "https://localhost:8080/"
        },
        "id": "eMYBIt1pcGE-",
        "outputId": "fb28dffe-5dbf-43aa-e30c-6b487fa596ff"
      },
      "execution_count": null,
      "outputs": [
        {
          "output_type": "stream",
          "name": "stdout",
          "text": [
            "7 8 0 2 4 1 8 10\n",
            "[0, 1, 2, 4, 7, 8, 8, 10]\n"
          ]
        }
      ]
    },
    {
      "cell_type": "markdown",
      "source": [
        "###**MERGE SORT**\n",
        "- Efficient than insertion and selection sort\n",
        "- Divide and conquer strategy\n",
        "- Recursive"
      ],
      "metadata": {
        "id": "cHC65rVZOonI"
      }
    },
    {
      "cell_type": "markdown",
      "source": [
        "- Own solution for Merge function"
      ],
      "metadata": {
        "id": "PdYzPBoOZ-TX"
      }
    },
    {
      "cell_type": "code",
      "source": [
        "def Merge(L1, L2):\n",
        "  (len1, len2) = (len(L1), len(L2))\n",
        "\n",
        "  (sortedList, i, j) = ([], 0, 0)\n",
        "\n",
        "  while(i<len1 and j<len2):\n",
        "    if(L1[i] <= L2[j]):\n",
        "      sortedList.append(L1[i])\n",
        "      i+=1\n",
        "    else:\n",
        "      sortedList.append(L2[j])\n",
        "      j+=1\n",
        "\n",
        "  while(i<len1):\n",
        "    sortedList.append(L1[i])\n",
        "    i+=1\n",
        "\n",
        "  while(j<len2):\n",
        "    sortedList.append(L2[j])\n",
        "    j+=1\n",
        "\n",
        "  return(sortedList)"
      ],
      "metadata": {
        "id": "pR1KX3QKOukz"
      },
      "execution_count": null,
      "outputs": []
    },
    {
      "cell_type": "markdown",
      "source": [
        "- Lecture solution for Merge function"
      ],
      "metadata": {
        "id": "OwfJBlQoaCCO"
      }
    },
    {
      "cell_type": "code",
      "source": [
        "def Merge(A, B):\n",
        "  m = len(A)\n",
        "  n = len(B)\n",
        "\n",
        "  (C, i, j, k) = ([], 0, 0, 0)\n",
        "\n",
        "  while(k<(m+n)):\n",
        "    if(i==m):\n",
        "      C.extend(B[j:])\n",
        "      k = k + (n-j)\n",
        "    elif(j==n):\n",
        "      C.extend(A[i:])\n",
        "      k = k + (m-i)\n",
        "    elif(A[i] < B[j]):\n",
        "      C.append(A[i]) \n",
        "      i += 1\n",
        "      k += 1\n",
        "    elif(A[i] >= B[j]):\n",
        "      C.append(B[j])\n",
        "      j += 1\n",
        "      k += 1\n",
        "  return C"
      ],
      "metadata": {
        "id": "ryyXc2AAYLkm"
      },
      "execution_count": null,
      "outputs": []
    },
    {
      "cell_type": "code",
      "source": [
        "def MergeSort(L):\n",
        "  if len(L)<=1:\n",
        "    return(L)\n",
        "\n",
        "  mid = len(L)//2\n",
        "  \n",
        "  left = MergeSort(L[:mid])\n",
        "  right = MergeSort(L[mid:])\n",
        "\n",
        "  sortedList = Merge(left, right)\n",
        "\n",
        "  return(sortedList)"
      ],
      "metadata": {
        "id": "c4a_ZGuCPXKz"
      },
      "execution_count": null,
      "outputs": []
    },
    {
      "cell_type": "code",
      "source": [
        "L = list(map(int, input().split()))\n",
        "print(MergeSort(L))"
      ],
      "metadata": {
        "colab": {
          "base_uri": "https://localhost:8080/"
        },
        "id": "GL9gEg_WQBia",
        "outputId": "4c02fb01-d8d3-4722-cdbc-a7e1e2a78731"
      },
      "execution_count": null,
      "outputs": [
        {
          "output_type": "stream",
          "name": "stdout",
          "text": [
            "4 5 1 3 2 6\n",
            "[1, 2, 3, 4, 5, 6]\n"
          ]
        }
      ]
    },
    {
      "cell_type": "markdown",
      "source": [
        "###**QUICK SORT**\n",
        "- Divide and conquer algorithhm\n",
        "- O(nlogn) time\n",
        "- No merging operation\n",
        "- No extra cost like merge sort"
      ],
      "metadata": {
        "id": "oLyOEeT3Rja1"
      }
    },
    {
      "cell_type": "code",
      "source": [
        "def quickSort(L, l, r):\n",
        "  if r-l<=1:\n",
        "    return(L)\n",
        "  (pivot, lower, upper) = (L[l], l+1, l+1)\n",
        "  for i in range(l+1, r):\n",
        "    if L[i] > pivot:\n",
        "      upper = upper + 1\n",
        "    else:\n",
        "      (L[i], L[lower]) = (L[lower], L[i])\n",
        "      (lower, upper) = (lower+1, upper+1)\n",
        "  (L[l], L[lower-1]) = (L[lower-1], L[l])\n",
        "  lower = lower - 1\n",
        "  quickSort(L, l, lower)\n",
        "  quickSort(L, lower+1, upper)\n",
        "  return(L)"
      ],
      "metadata": {
        "id": "8rU9f39oRmGa"
      },
      "execution_count": null,
      "outputs": []
    },
    {
      "cell_type": "code",
      "source": [
        "print(quickSort([3, 7, 1, 9, 2, 4, 8, 5], 0, 8))"
      ],
      "metadata": {
        "colab": {
          "base_uri": "https://localhost:8080/"
        },
        "id": "6gg_XpWyVHlt",
        "outputId": "1e47fe33-dc3a-4a1c-ba10-7551aa3155c1"
      },
      "execution_count": null,
      "outputs": [
        {
          "output_type": "stream",
          "name": "stdout",
          "text": [
            "[1, 2, 3, 4, 5, 7, 8, 9]\n"
          ]
        }
      ]
    },
    {
      "cell_type": "markdown",
      "source": [
        "###**LINKED LIST**"
      ],
      "metadata": {
        "id": "P5owuVxLqzok"
      }
    },
    {
      "cell_type": "code",
      "source": [
        "class Node:\n",
        "  def __init__(self, v = None):\n",
        "    self.value = v\n",
        "    self.next = None\n",
        "  \n",
        "  def isEmpty(self):\n",
        "    if(self.value == None):\n",
        "      return(True)\n",
        "    else:\n",
        "      return(False)\n",
        "  \n",
        "  def append(self, v):   # recursive implementation of append\n",
        "    if(self.isEmpty()):\n",
        "      self.value = v\n",
        "    elif(self.next==None):\n",
        "      self.next = Node(v)\n",
        "    else:\n",
        "      self.next.append(v)\n",
        "    return\n",
        "\n",
        "  def appendi(self, v):   # iterative implementation of append\n",
        "    if(self.isEmpty()):\n",
        "      self.value = v\n",
        "      return\n",
        "    temp = self\n",
        "    while(temp.next != None):\n",
        "      temp = temp.next\n",
        "    temp.next = Node(v)\n",
        "    return\n",
        "\n",
        "  def insert(self, v):\n",
        "    if(self.isEmpty()):\n",
        "      self.value = v\n",
        "      return\n",
        "\n",
        "    newNode = Node(v)\n",
        "    (self.value, newNode.value) = (newNode.value, self.value)\n",
        "    (newNode.next, self.next) = (self.next, newNode)\n",
        "\n",
        "    return\n",
        "\n",
        "  def delete(self, v):   # iterative implementation of delete\n",
        "    if(self.isEmpty()):\n",
        "      return\n",
        "\n",
        "    if(self.value == v):\n",
        "      self.value = None\n",
        "      if(self.next != None):\n",
        "        self.value = self.next.value\n",
        "        self.next = self.next.next\n",
        "      return\n",
        "\n",
        "    curr = self\n",
        "    prev = None\n",
        "    while(curr.value != v):\n",
        "      prev = curr\n",
        "      curr = curr.next\n",
        "    prev.next = curr.next\n",
        "    curr.next = None\n",
        "    return\n",
        "\n",
        "  def deletei(self, v):  # recursive implementation of delete\n",
        "    if(self.isEmpty()):\n",
        "      return\n",
        "    \n",
        "    if(self.value == v):\n",
        "      self.value = None\n",
        "      if(self.next != None):\n",
        "        self.value = self.next.value\n",
        "        self.next = self.next.next\n",
        "      return\n",
        "    else:\n",
        "      self.next.deletei(v)\n",
        "      if(self.next.value == None):\n",
        "        self.next = None\n",
        "    return\n",
        "\n",
        "  def printList(self):\n",
        "    if(self.isEmpty()):\n",
        "      print('List Empty')\n",
        "      return\n",
        "    curr = self\n",
        "    while(curr):\n",
        "      print(curr.value, end=' ')\n",
        "      curr = curr.next"
      ],
      "metadata": {
        "id": "OeKVpjvbqy9G"
      },
      "execution_count": null,
      "outputs": []
    },
    {
      "cell_type": "code",
      "source": [
        "n = int(input('No of elements: '))\n",
        "head = Node()\n",
        "for i in range(n):\n",
        "  data = int(input())\n",
        "  head.appendi(data)\n",
        "head.insert(int(input()))\n",
        "head.delete(3)\n",
        "head.printList()"
      ],
      "metadata": {
        "colab": {
          "base_uri": "https://localhost:8080/"
        },
        "id": "nxCEqjCPHzoO",
        "outputId": "02ee5f79-6d54-4c73-8d2f-7f6b6094aa4f"
      },
      "execution_count": null,
      "outputs": [
        {
          "output_type": "stream",
          "name": "stdout",
          "text": [
            "No of elements: 5\n",
            "1\n",
            "2\n",
            "3\n",
            "4\n",
            "5\n",
            "0\n",
            "0 1 2 4 5 "
          ]
        }
      ]
    },
    {
      "cell_type": "markdown",
      "source": [
        "### List comprehension"
      ],
      "metadata": {
        "id": "Ak6p0nrTMDjo"
      }
    },
    {
      "cell_type": "code",
      "source": [
        "zeroMatrix = [[0 for i in range(3)] for j in range(3)]\n",
        "zeroMatrix"
      ],
      "metadata": {
        "colab": {
          "base_uri": "https://localhost:8080/"
        },
        "id": "E_IlAh-TMHC8",
        "outputId": "a0a49421-e112-4b30-96f3-523f25dd0f1a"
      },
      "execution_count": null,
      "outputs": [
        {
          "output_type": "execute_result",
          "data": {
            "text/plain": [
              "[[0, 0, 0], [0, 0, 0], [0, 0, 0]]"
            ]
          },
          "metadata": {},
          "execution_count": 18
        }
      ]
    },
    {
      "cell_type": "markdown",
      "source": [
        "### NUMPY ARRAYS\n",
        "- Numpy library provides arrays"
      ],
      "metadata": {
        "id": "LuhxvCGFM1pr"
      }
    },
    {
      "cell_type": "code",
      "source": [
        "import numpy as np"
      ],
      "metadata": {
        "id": "Tbm4n4hiM8Yf"
      },
      "execution_count": null,
      "outputs": []
    },
    {
      "cell_type": "code",
      "source": [
        "zeroArray = np.zeros(shape=(3, 3)) # creates an array of zeros. 3 -> rows, 3-> columns\n",
        "zeroArray"
      ],
      "metadata": {
        "colab": {
          "base_uri": "https://localhost:8080/"
        },
        "id": "5JhNOiVSM-um",
        "outputId": "fd658f6a-b6f8-46e2-c1a7-fabf052176ec"
      },
      "execution_count": null,
      "outputs": [
        {
          "output_type": "execute_result",
          "data": {
            "text/plain": [
              "array([[0., 0., 0.],\n",
              "       [0., 0., 0.],\n",
              "       [0., 0., 0.]])"
            ]
          },
          "metadata": {},
          "execution_count": 20
        }
      ]
    },
    {
      "cell_type": "code",
      "source": [
        "newArray = np.array([[1, 0], [0, 1]]) # converts the given sequence into an array\n",
        "newArray"
      ],
      "metadata": {
        "colab": {
          "base_uri": "https://localhost:8080/"
        },
        "id": "7lgaI39PNMyF",
        "outputId": "c373c5e4-982e-4fab-cd70-cd765313c66d"
      },
      "execution_count": null,
      "outputs": [
        {
          "output_type": "execute_result",
          "data": {
            "text/plain": [
              "array([[1, 0],\n",
              "       [0, 1]])"
            ]
          },
          "metadata": {},
          "execution_count": 21
        }
      ]
    },
    {
      "cell_type": "markdown",
      "source": [
        "#**WEEK-4**\n",
        "\n",
        "### INTRODUCTION TO GRAPHS\n",
        "\n"
      ],
      "metadata": {
        "id": "PHG8JwTFoEv3"
      }
    },
    {
      "cell_type": "code",
      "source": [
        "import numpy as np"
      ],
      "metadata": {
        "id": "Zy8LoAlq4yOg"
      },
      "execution_count": null,
      "outputs": []
    },
    {
      "cell_type": "code",
      "source": [
        "z = np.zeros(shape=(10, 10))\n",
        "z"
      ],
      "metadata": {
        "colab": {
          "base_uri": "https://localhost:8080/"
        },
        "id": "RK0n1YtX40rN",
        "outputId": "6e022095-47cf-4b1f-c792-95db4608c10b"
      },
      "execution_count": null,
      "outputs": [
        {
          "output_type": "execute_result",
          "data": {
            "text/plain": [
              "array([[0., 0., 0., 0., 0., 0., 0., 0., 0., 0.],\n",
              "       [0., 0., 0., 0., 0., 0., 0., 0., 0., 0.],\n",
              "       [0., 0., 0., 0., 0., 0., 0., 0., 0., 0.],\n",
              "       [0., 0., 0., 0., 0., 0., 0., 0., 0., 0.],\n",
              "       [0., 0., 0., 0., 0., 0., 0., 0., 0., 0.],\n",
              "       [0., 0., 0., 0., 0., 0., 0., 0., 0., 0.],\n",
              "       [0., 0., 0., 0., 0., 0., 0., 0., 0., 0.],\n",
              "       [0., 0., 0., 0., 0., 0., 0., 0., 0., 0.],\n",
              "       [0., 0., 0., 0., 0., 0., 0., 0., 0., 0.],\n",
              "       [0., 0., 0., 0., 0., 0., 0., 0., 0., 0.]])"
            ]
          },
          "metadata": {},
          "execution_count": 2
        }
      ]
    },
    {
      "cell_type": "markdown",
      "source": [
        "**Adjacency matrix**\n"
      ],
      "metadata": {
        "id": "Re3IW3YBk3EY"
      }
    },
    {
      "cell_type": "code",
      "source": [
        "edges = [(0,1),(0,4),(1,2),(2,0),(3,4),(3,6),  # edges of the graph Airline route (directed graph)\n",
        "         (4,0),(4,3),(4,7),(5,3),(5,7),(6,5),  # 10 vertices V = {0,1,...,8,9}\n",
        "         (7,4),(7,8),(8,5),(8,9),(9,8)]"
      ],
      "metadata": {
        "id": "-L-u3BhFJr5f"
      },
      "execution_count": null,
      "outputs": []
    },
    {
      "cell_type": "code",
      "source": [
        "edges = [(0,1),(0,2),(0,4),(1,0),(1,2),(2,0),(2,1),(3,4),(3,5),\n",
        "         (3,6),(4,0),(4,3),(4,7),(5,3),(5,6),(5,7),(5,8),(6,3),\n",
        "         (6,5),(7,4),(7,5),(7,8),(8,5),(8,7),(8,9),(9,8)]"
      ],
      "metadata": {
        "id": "CHOvJGh2PB2B"
      },
      "execution_count": null,
      "outputs": []
    },
    {
      "cell_type": "code",
      "source": [
        "Amatrix = np.zeros(shape=(10, 10)) # creating an adjacency matrix with all elements being 0 initially\n",
        "for i, j in edges:\n",
        "  Amatrix[i][j] = 1 # setiing 1 for A[i, j] if there is an edge from i to j\n",
        "Amatrix # printing the adjacency matrix of the given graph"
      ],
      "metadata": {
        "id": "yIkHlP5rk7PN",
        "colab": {
          "base_uri": "https://localhost:8080/"
        },
        "outputId": "8acc0cd8-fb89-4761-beb4-016126f8fd74"
      },
      "execution_count": null,
      "outputs": [
        {
          "output_type": "execute_result",
          "data": {
            "text/plain": [
              "array([[0., 1., 1., 0., 1., 0., 0., 0., 0., 0.],\n",
              "       [1., 0., 1., 0., 0., 0., 0., 0., 0., 0.],\n",
              "       [1., 1., 0., 0., 0., 0., 0., 0., 0., 0.],\n",
              "       [0., 0., 0., 0., 1., 1., 1., 0., 0., 0.],\n",
              "       [1., 0., 0., 1., 0., 0., 0., 1., 0., 0.],\n",
              "       [0., 0., 0., 1., 0., 0., 1., 1., 1., 0.],\n",
              "       [0., 0., 0., 1., 0., 1., 0., 0., 0., 0.],\n",
              "       [0., 0., 0., 0., 1., 1., 0., 0., 1., 0.],\n",
              "       [0., 0., 0., 0., 0., 1., 0., 1., 0., 1.],\n",
              "       [0., 0., 0., 0., 0., 0., 0., 0., 1., 0.]])"
            ]
          },
          "metadata": {},
          "execution_count": 10
        }
      ]
    },
    {
      "cell_type": "markdown",
      "source": [
        "**Finding neighbours of a given vertex of a graph**"
      ],
      "metadata": {
        "id": "jHy9vid-zx8j"
      }
    },
    {
      "cell_type": "code",
      "source": [
        "def neighbours(Amat, i):\n",
        "  nghbrs = []\n",
        "  (row, col) = Amat.shape # gives the dimension of the matrix\n",
        "  for j in range(col):\n",
        "    if(Amat[i][j]==1):\n",
        "      nghbrs.append(j)\n",
        "  return(nghbrs)"
      ],
      "metadata": {
        "id": "NBpWuEdpzxSH"
      },
      "execution_count": null,
      "outputs": []
    },
    {
      "cell_type": "markdown",
      "source": [
        "**Queue**"
      ],
      "metadata": {
        "id": "kS7HU4hjuq-g"
      }
    },
    {
      "cell_type": "code",
      "source": [
        "class Queue:\n",
        "  def __init__(self): # creates an empty queue when an object is created\n",
        "    self.queue = []\n",
        "  \n",
        "  def addq(self, v): # adds an element to the rear end of the queue\n",
        "    self.queue.append(v)\n",
        "  \n",
        "  def delq(self):  #deletes an element from the front of the queue\n",
        "    v = None\n",
        "    if not self.isEmpty():\n",
        "      v = self.queue[0]\n",
        "      self.queue = self.queue[1:]\n",
        "    return(v)\n",
        "\n",
        "  def isEmpty(self): # checks if the queue is empty\n",
        "    return(self.queue == [])\n",
        "\n",
        "  def __str__(self): #returns string form of the queue if we try to print the object\n",
        "    return(str(self.queue)) "
      ],
      "metadata": {
        "id": "uYgdYLKtuuYg"
      },
      "execution_count": null,
      "outputs": []
    },
    {
      "cell_type": "markdown",
      "source": [
        "**How does a queue work?**"
      ],
      "metadata": {
        "id": "cdru0fhwv54Y"
      }
    },
    {
      "cell_type": "code",
      "source": [
        "# create an object for class Queue\n",
        "q = Queue()\n",
        "\n",
        "# insert elements to the queue\n",
        "for i in range(3):\n",
        "  q.addq(i) # adds element to the rear end of the queue\n",
        "  print(q) # prints the queue at the current stage\n",
        "print(q.isEmpty()) #checks if the queue is empty"
      ],
      "metadata": {
        "colab": {
          "base_uri": "https://localhost:8080/"
        },
        "id": "SSPIWefNvd0H",
        "outputId": "b496b8e6-2bea-46a2-9e6b-451113505712"
      },
      "execution_count": null,
      "outputs": [
        {
          "output_type": "stream",
          "name": "stdout",
          "text": [
            "[0]\n",
            "[0, 1]\n",
            "[0, 1, 2]\n",
            "False\n"
          ]
        }
      ]
    },
    {
      "cell_type": "code",
      "source": [
        "for i in range(3):\n",
        "  print(q.delq(), q) #deletes an element from the front of the queue\n",
        "print(q.isEmpty())"
      ],
      "metadata": {
        "colab": {
          "base_uri": "https://localhost:8080/"
        },
        "id": "WX-Rb-WbwsTQ",
        "outputId": "2e29b838-21cd-4089-ce58-cb6ba534b1e4"
      },
      "execution_count": null,
      "outputs": [
        {
          "output_type": "stream",
          "name": "stdout",
          "text": [
            "0 [1, 2]\n",
            "1 [2]\n",
            "2 []\n",
            "True\n"
          ]
        }
      ]
    },
    {
      "cell_type": "markdown",
      "source": [
        "## Breadth First Search(BFS)"
      ],
      "metadata": {
        "id": "uL2DEXxb0SUY"
      }
    },
    {
      "cell_type": "code",
      "source": [
        "def BFS(Amat, v):\n",
        "  visited = {}\n",
        "  (row, col) = Amat.shape\n",
        "  for i in range(row):\n",
        "    visited[i] = False \n",
        "  q = Queue() \n",
        "\n",
        "  visited[v] = True\n",
        "  q.addq(v)\n",
        "\n",
        "  while(not q.isEmpty()):\n",
        "    explore = q.delq()\n",
        "    neighbourVertices = neighbours(Amat, explore)\n",
        "    for vertex in neighbourVertices:\n",
        "      if(not visited[vertex]):\n",
        "        visited[vertex] = True\n",
        "        q.addq(vertex)\n",
        "  \n",
        "  return(visited)"
      ],
      "metadata": {
        "id": "70NHcHkP0UNS"
      },
      "execution_count": null,
      "outputs": []
    },
    {
      "cell_type": "code",
      "source": [
        "BFS(Amatrix, 3)"
      ],
      "metadata": {
        "colab": {
          "base_uri": "https://localhost:8080/"
        },
        "id": "OapjOi7M1VSH",
        "outputId": "8a0727dd-dd83-404b-fa0c-1123db3f38cd"
      },
      "execution_count": null,
      "outputs": [
        {
          "output_type": "execute_result",
          "data": {
            "text/plain": [
              "{0: True,\n",
              " 1: True,\n",
              " 2: True,\n",
              " 3: True,\n",
              " 4: True,\n",
              " 5: True,\n",
              " 6: True,\n",
              " 7: True,\n",
              " 8: True,\n",
              " 9: True}"
            ]
          },
          "metadata": {},
          "execution_count": 13
        }
      ]
    },
    {
      "cell_type": "markdown",
      "source": [
        "**Adjacency List**"
      ],
      "metadata": {
        "id": "MfDLjOCPJgA8"
      }
    },
    {
      "cell_type": "code",
      "source": [
        "AList = {}\n",
        "for i, j in edges:\n",
        "  if i not in AList.keys():\n",
        "    AList[i] = [j]\n",
        "  else:\n",
        "    AList[i] += [j]\n",
        "AList "
      ],
      "metadata": {
        "colab": {
          "base_uri": "https://localhost:8080/"
        },
        "id": "IZTBO-52JjfP",
        "outputId": "22c383ba-70b1-4e1d-9aa9-8389f4f05d4c"
      },
      "execution_count": null,
      "outputs": [
        {
          "output_type": "execute_result",
          "data": {
            "text/plain": [
              "{0: [1, 2, 4],\n",
              " 1: [0, 2],\n",
              " 2: [0, 1],\n",
              " 3: [4, 5, 6],\n",
              " 4: [0, 3, 7],\n",
              " 5: [3, 6, 7, 8],\n",
              " 6: [3, 5],\n",
              " 7: [4, 5, 8],\n",
              " 8: [5, 7, 9],\n",
              " 9: [8]}"
            ]
          },
          "metadata": {},
          "execution_count": 16
        }
      ]
    },
    {
      "cell_type": "markdown",
      "source": [
        "**BFSListPath**"
      ],
      "metadata": {
        "id": "4uZOo-2TKamV"
      }
    },
    {
      "cell_type": "code",
      "source": [
        "def BFSListPath(Alist, i):\n",
        "  #(visited, parent) = ({}, {})  #visited -> maintains visited vertices and parent contains parents of each vertex\n",
        "  (level, parent) = ({}, {}) # level->maintains the level of  each vertex from the starting vertex and parent maintains the parent of each vertex\n",
        "  for vertex in Alist.keys():\n",
        "    #visited[vertex] = False\n",
        "    level[vertex] = -1\n",
        "    parent[vertex] = -1\n",
        "  q = Queue()\n",
        "\n",
        "  #visited[i] = True \n",
        "  level[i] = 0 # level of the starting vertex is 0\n",
        "  q.addq(i)\n",
        "\n",
        "  while(not q.isEmpty()):\n",
        "    explore = q.delq()\n",
        "    for v in Alist[explore]:\n",
        "      #if(not visited[v]):\n",
        "      if(level[v] == -1):\n",
        "        #visited[v] = True \n",
        "        level[v] = level[explore] + 1 # level of a adjacent vertex is 1 more than the level of it's parent\n",
        "        parent[v] = explore\n",
        "        q.addq(v) \n",
        "  \n",
        "  #return(visited, parent)\n",
        "  return(level, parent)"
      ],
      "metadata": {
        "id": "Zd42n2h1KwpY"
      },
      "execution_count": null,
      "outputs": []
    },
    {
      "cell_type": "code",
      "source": [
        "BFSListPath(AList, 7)"
      ],
      "metadata": {
        "colab": {
          "base_uri": "https://localhost:8080/"
        },
        "id": "81lPW0IJMLnz",
        "outputId": "2654d727-e38e-4d05-a90d-0e165ed9400c"
      },
      "execution_count": null,
      "outputs": [
        {
          "output_type": "execute_result",
          "data": {
            "text/plain": [
              "({0: 2, 1: 3, 2: 3, 3: 2, 4: 1, 5: 1, 6: 2, 7: 0, 8: 1, 9: 2},\n",
              " {0: 4, 1: 0, 2: 0, 3: 4, 4: 7, 5: 7, 6: 5, 7: -1, 8: 7, 9: 8})"
            ]
          },
          "metadata": {},
          "execution_count": 16
        }
      ]
    },
    {
      "cell_type": "markdown",
      "source": [
        "###**Depth First Search(DFS)**\n",
        "Recursive implementation\n",
        "\n",
        "Using adjacency matrix"
      ],
      "metadata": {
        "id": "NeHqKBebr0Cy"
      }
    },
    {
      "cell_type": "code",
      "source": [
        "(visited, parent) = ({}, {}) # initialized globaly"
      ],
      "metadata": {
        "id": "z0Z8D1810LeG"
      },
      "execution_count": null,
      "outputs": []
    },
    {
      "cell_type": "code",
      "source": [
        "def DFSInitGlobaly(Amat):\n",
        "  (rows, cols) = Amat.shape\n",
        "  for v in range(rows):\n",
        "    visited[v] = False\n",
        "    parent[v] = -1 \n",
        "  return"
      ],
      "metadata": {
        "id": "u-bcvLs80R2b"
      },
      "execution_count": null,
      "outputs": []
    },
    {
      "cell_type": "code",
      "source": [
        "def DFS(Amat, v):\n",
        "  visited[v] = True  #sets visited to true\n",
        "\n",
        "  for vertex in neighbours(Amat, v):\n",
        "    if(not visited[vertex]):\n",
        "      parent[vertex] = v   \n",
        "      DFS(Amat, vertex)  # suspends exploration of v and goes to vertex\n",
        "  return"
      ],
      "metadata": {
        "id": "ZCilDtUK0np5"
      },
      "execution_count": null,
      "outputs": []
    },
    {
      "cell_type": "code",
      "source": [
        "DFSInitGlobaly(Amatrix)"
      ],
      "metadata": {
        "id": "_YwNGiio1MJR"
      },
      "execution_count": null,
      "outputs": []
    },
    {
      "cell_type": "code",
      "source": [
        "DFS(Amatrix, 4)  # starting vertex is 4"
      ],
      "metadata": {
        "id": "7DtgaBVq1R4H"
      },
      "execution_count": null,
      "outputs": []
    },
    {
      "cell_type": "code",
      "source": [
        "visited, parent"
      ],
      "metadata": {
        "colab": {
          "base_uri": "https://localhost:8080/"
        },
        "id": "bmcT_Szx1fMC",
        "outputId": "a60006ff-685b-434c-aba6-9f467101a5a6"
      },
      "execution_count": null,
      "outputs": [
        {
          "output_type": "execute_result",
          "data": {
            "text/plain": [
              "({0: True,\n",
              "  1: True,\n",
              "  2: True,\n",
              "  3: True,\n",
              "  4: True,\n",
              "  5: True,\n",
              "  6: True,\n",
              "  7: True,\n",
              "  8: True,\n",
              "  9: True},\n",
              " {0: 4, 1: 0, 2: 1, 3: 4, 4: -1, 5: 3, 6: 5, 7: 5, 8: 7, 9: 8})"
            ]
          },
          "metadata": {},
          "execution_count": 13
        }
      ]
    },
    {
      "cell_type": "markdown",
      "source": [
        "Using Adjacency List"
      ],
      "metadata": {
        "id": "K03_v4aXqvcL"
      }
    },
    {
      "cell_type": "code",
      "source": [
        "(visited, parent) = ({}, {})"
      ],
      "metadata": {
        "id": "F5EUNvBQr68Y"
      },
      "execution_count": null,
      "outputs": []
    },
    {
      "cell_type": "code",
      "source": [
        "def DFSInitList(Alist):\n",
        "  for i in Alist.keys():\n",
        "    visited[i] = False\n",
        "    parent[i] = -1"
      ],
      "metadata": {
        "id": "G0dcTlGTrmt8"
      },
      "execution_count": null,
      "outputs": []
    },
    {
      "cell_type": "code",
      "source": [
        "def DFSlist(Alist, v):\n",
        "  visited[v] = True\n",
        "\n",
        "  for vertex in Alist[v]:\n",
        "    if(not visited[vertex]):\n",
        "      parent[vertex] = v\n",
        "      DFSlist(Alist, vertex)\n",
        "  return"
      ],
      "metadata": {
        "id": "zRtHkfgUq0lo"
      },
      "execution_count": null,
      "outputs": []
    },
    {
      "cell_type": "code",
      "source": [
        "DFSInitList(AList)"
      ],
      "metadata": {
        "id": "popAgBoMrfwM"
      },
      "execution_count": null,
      "outputs": []
    },
    {
      "cell_type": "code",
      "source": [
        "DFSlist(AList, 4)"
      ],
      "metadata": {
        "id": "QN1MqqH9sHRB"
      },
      "execution_count": null,
      "outputs": []
    },
    {
      "cell_type": "code",
      "source": [
        "visited, parent"
      ],
      "metadata": {
        "colab": {
          "base_uri": "https://localhost:8080/"
        },
        "id": "hL9xcWilsLms",
        "outputId": "5039ed4d-d56f-4e76-ebc9-1a2efe7aca13"
      },
      "execution_count": null,
      "outputs": [
        {
          "output_type": "execute_result",
          "data": {
            "text/plain": [
              "({0: True,\n",
              "  1: True,\n",
              "  2: True,\n",
              "  3: True,\n",
              "  4: True,\n",
              "  5: True,\n",
              "  6: True,\n",
              "  7: True,\n",
              "  8: True,\n",
              "  9: True},\n",
              " {0: 4, 1: 0, 2: 1, 3: 4, 4: -1, 5: 3, 6: 5, 7: 5, 8: 7, 9: 8})"
            ]
          },
          "metadata": {},
          "execution_count": 23
        }
      ]
    },
    {
      "cell_type": "markdown",
      "source": [
        "###**Identifying connected components**\n",
        "- Assign each vertex a component number\n",
        "- Start BFS/DFS from vertex 0\n",
        "    - Assign the component number of vertex 0 for all the nodes that are reachable from vertex 0\n",
        "-  Pick the smallest unvisited node j\n",
        "  - Increment the component number by 1\n",
        "  - Run BFS/DFS from node j\n",
        "  - Assign each visited node component number 1\n",
        "- Repeat, until all nodes are visited"
      ],
      "metadata": {
        "id": "p48qzfocM0k9"
      }
    },
    {
      "cell_type": "markdown",
      "source": [
        "**BFS version of identifying components**"
      ],
      "metadata": {
        "id": "oeJho6JIN4GC"
      }
    },
    {
      "cell_type": "code",
      "source": [
        "def AdjacencyList(edges):\n",
        "  AList = {}\n",
        "  for i, j in edges:\n",
        "    if(i not in AList.keys()):\n",
        "      if(j==-1):\n",
        "        AList[i] = []\n",
        "      else:\n",
        "        AList[i] = [j]\n",
        "    else:\n",
        "      AList[i] += [j]\n",
        "  return(AList)"
      ],
      "metadata": {
        "id": "LbYNMoUtRybO"
      },
      "execution_count": null,
      "outputs": []
    },
    {
      "cell_type": "code",
      "source": [
        "def BFSList(AList, v):\n",
        "  visited = {}\n",
        "  for i in AList.keys():\n",
        "    visited[i] = False\n",
        "  q = Queue()\n",
        "\n",
        "  visited[v] = True\n",
        "  q.addq(v)\n",
        "\n",
        "  while(not q.isEmpty()):\n",
        "    explore = q.delq()\n",
        "    for vertex in AList[explore]:\n",
        "      if(not visited[vertex]):\n",
        "        q.addq(vertex)\n",
        "        visited[vertex] = True\n",
        "  return(visited)"
      ],
      "metadata": {
        "id": "DSchGEAlPdM4"
      },
      "execution_count": null,
      "outputs": []
    },
    {
      "cell_type": "code",
      "source": [
        "def Components(AList):\n",
        "  (components, visited) = ({}, {})\n",
        "  for i in AList.keys():\n",
        "    components[i] = -1\n",
        "  \n",
        "  (compid, seen) = (0, 0)\n",
        "  maxKey = max(AList.keys())\n",
        "  while(seen <= maxKey):\n",
        "    startv = min([i for i in AList.keys() if components[i]==-1])\n",
        "    visited = BFSList(AList, startv)\n",
        "\n",
        "    for k in visited.keys():\n",
        "      if(visited[k]==True):\n",
        "        seen += 1\n",
        "        components[k] = compid\n",
        "    compid += 1\n",
        "  return(components)"
      ],
      "metadata": {
        "id": "KuV1BtieN3A-"
      },
      "execution_count": null,
      "outputs": []
    },
    {
      "cell_type": "code",
      "source": [
        "edges = [(0,1), (0,4), (1, 0), (4,0),(4,8),(4,9),(8,4),(8,9),(9,8), (2, 3),\n",
        "                  (2,6),(2,7),(3,2),(3,7),(6,2),(6,7),(6,10),(7,2),(7,3),(7,6),(7,10),(7,11),\n",
        "                  (10,6),(10,7),(11,7),(5, -1)]"
      ],
      "metadata": {
        "id": "e8AO0T69Q7hS"
      },
      "execution_count": null,
      "outputs": []
    },
    {
      "cell_type": "code",
      "source": [
        "AList = AdjacencyList(edges)\n",
        "components = Components(AList)\n",
        "components.order"
      ],
      "metadata": {
        "colab": {
          "base_uri": "https://localhost:8080/"
        },
        "id": "5xLEFpnLRuk1",
        "outputId": "bad11328-7732-4fa6-83bb-c8a911c2e96d"
      },
      "execution_count": null,
      "outputs": [
        {
          "output_type": "execute_result",
          "data": {
            "text/plain": [
              "{0: 0, 1: 0, 2: 1, 3: 1, 4: 0, 5: 2, 6: 1, 7: 1, 8: 0, 9: 0, 10: 1, 11: 1}"
            ]
          },
          "metadata": {},
          "execution_count": 18
        }
      ]
    },
    {
      "cell_type": "code",
      "source": [
        "componentSet = set()\n",
        "for compid in components.values():\n",
        "  componentSet.add(compid)\n",
        "if(len(componentSet)==1):\n",
        "  print('Connected Graph')\n",
        "else:\n",
        "  print('Disconnected graph')"
      ],
      "metadata": {
        "colab": {
          "base_uri": "https://localhost:8080/"
        },
        "id": "gAg0hp2XUX0O",
        "outputId": "e737722f-e6fb-484f-e245-3ddaacdba3e9"
      },
      "execution_count": null,
      "outputs": [
        {
          "output_type": "stream",
          "name": "stdout",
          "text": [
            "Disconnected graph\n"
          ]
        }
      ]
    },
    {
      "cell_type": "markdown",
      "source": [
        "###**TOPOLOGICAL SORT**"
      ],
      "metadata": {
        "id": "5L3K4FeBOXPH"
      }
    },
    {
      "cell_type": "code",
      "source": [
        "import random"
      ],
      "metadata": {
        "id": "_4RgjTpnROvL"
      },
      "execution_count": null,
      "outputs": []
    },
    {
      "cell_type": "code",
      "source": [
        "def topologicalsort(Amat):\n",
        "  indegree = {}\n",
        "  toposortlist = []\n",
        "  (row, col) = Amat.shape\n",
        "  for j in range(col):\n",
        "    indegree[j] = 0\n",
        "    for i in range(row):\n",
        "      if Amat[i, j] == 1:\n",
        "        indegree[j] += 1\n",
        "  \n",
        "  for i in range(row):\n",
        "    #v = random.choice([k for k in indegree.keys() if indegree[k]==0])\n",
        "    v = min([k for k in indegree.keys() if indegree[k]==0])\n",
        "    toposortlist.append(v)\n",
        "    indegree[v] -= 1\n",
        "    for k in range(col):\n",
        "      if(Amat[v, k] == 1):\n",
        "        indegree[k] -= 1\n",
        "  \n",
        "  return(toposortlist)"
      ],
      "metadata": {
        "id": "GObx7yXdOs39"
      },
      "execution_count": null,
      "outputs": []
    },
    {
      "cell_type": "code",
      "source": [
        "dagedges = [(0,2),(0,3),(0,4),(1,2),(1,7),(2,5),(3,5),(3,7),(4,7),(5,6),(6,7), (7,-1)]"
      ],
      "metadata": {
        "id": "LRmWO5YIOdJ2"
      },
      "execution_count": null,
      "outputs": []
    },
    {
      "cell_type": "code",
      "source": [
        "import numpy as np"
      ],
      "metadata": {
        "id": "GSy42vpRO2ku"
      },
      "execution_count": null,
      "outputs": []
    },
    {
      "cell_type": "code",
      "source": [
        "Amatrix = np.zeros(shape=(8,8))\n",
        "for i, j in dagedges:\n",
        "  Amatrix[i, j] = 1\n",
        "Amatrix"
      ],
      "metadata": {
        "colab": {
          "base_uri": "https://localhost:8080/"
        },
        "id": "zGC93VsJOvx6",
        "outputId": "e662f838-7477-4c9f-ac8e-197ed4608c21"
      },
      "execution_count": null,
      "outputs": [
        {
          "output_type": "execute_result",
          "data": {
            "text/plain": [
              "array([[0., 0., 1., 1., 1., 0., 0., 0.],\n",
              "       [0., 0., 1., 0., 0., 0., 0., 1.],\n",
              "       [0., 0., 0., 0., 0., 1., 0., 0.],\n",
              "       [0., 0., 0., 0., 0., 1., 0., 1.],\n",
              "       [0., 0., 0., 0., 0., 0., 0., 1.],\n",
              "       [0., 0., 0., 0., 0., 0., 1., 0.],\n",
              "       [0., 0., 0., 0., 0., 0., 0., 1.],\n",
              "       [0., 0., 0., 0., 0., 0., 0., 0.]])"
            ]
          },
          "metadata": {},
          "execution_count": 8
        }
      ]
    },
    {
      "cell_type": "code",
      "source": [
        "topologicalsort(Amatrix)"
      ],
      "metadata": {
        "colab": {
          "base_uri": "https://localhost:8080/"
        },
        "id": "J0uY1poSRA9w",
        "outputId": "fe089ff0-2b33-4d7a-f9a5-a48904251d94"
      },
      "execution_count": null,
      "outputs": [
        {
          "output_type": "execute_result",
          "data": {
            "text/plain": [
              "[0, 1, 2, 3, 4, 5, 6, 7]"
            ]
          },
          "metadata": {},
          "execution_count": 29
        }
      ]
    },
    {
      "cell_type": "code",
      "source": [
        "def AdjacencyList(edges):\n",
        "  AList = {}\n",
        "  for i, j in edges:\n",
        "    if i not in AList.keys():\n",
        "      if(j==-1):\n",
        "        AList[i] = []\n",
        "      else:\n",
        "        AList[i] = [j]\n",
        "    else:\n",
        "      AList[i] += [j]\n",
        "  return(AList)"
      ],
      "metadata": {
        "id": "ZHNVPBSkWoQK"
      },
      "execution_count": null,
      "outputs": []
    },
    {
      "cell_type": "markdown",
      "source": [
        "### Topological sort using Adjacency List\n",
        "\n",
        "Time complexity : O(m+n)"
      ],
      "metadata": {
        "id": "wieYXdcPXUfY"
      }
    },
    {
      "cell_type": "code",
      "source": [
        "def topologicalsortlist(AList):\n",
        "\n",
        "  (indegree, toposortlist) = ({}, [])\n",
        "\n",
        "  for u in AList.keys():\n",
        "    indegree[u] = 0\n",
        "  for u in AList.keys():\n",
        "    for v in AList[u]:\n",
        "      indegree[v] += 1\n",
        "\n",
        "  zerodegreeq = Queue()\n",
        "  for u in AList.keys():\n",
        "    if indegree[u] == 0:\n",
        "      zerodegreeq.addq(u)\n",
        "\n",
        "  while(not zerodegreeq.isEmpty()):\n",
        "    j = zerodegreeq.delq()\n",
        "    indegree[j] -= 1\n",
        "    toposortlist.append(j)\n",
        "    for v in AList[j]:\n",
        "      indegree[v] -= 1\n",
        "      if indegree[v] == 0:\n",
        "        zerodegreeq.addq(v)\n",
        "  \n",
        "  return(toposortlist)"
      ],
      "metadata": {
        "id": "Ss7Cio56XcP1"
      },
      "execution_count": null,
      "outputs": []
    },
    {
      "cell_type": "code",
      "source": [
        "AList = AdjacencyList(dagedges)\n",
        "AList"
      ],
      "metadata": {
        "colab": {
          "base_uri": "https://localhost:8080/"
        },
        "id": "Q8Eoue9jW5gf",
        "outputId": "40ee0ded-fe6c-46fd-f367-0322f618a297"
      },
      "execution_count": null,
      "outputs": [
        {
          "output_type": "execute_result",
          "data": {
            "text/plain": [
              "{0: [2, 3, 4], 1: [2, 7], 2: [5], 3: [5, 7], 4: [7], 5: [6], 6: [7], 7: []}"
            ]
          },
          "metadata": {},
          "execution_count": 40
        }
      ]
    },
    {
      "cell_type": "code",
      "source": [
        "topologicalsortlist(AList)"
      ],
      "metadata": {
        "colab": {
          "base_uri": "https://localhost:8080/"
        },
        "id": "1E8krlK2am4H",
        "outputId": "5f88c502-28c8-40d4-a7c5-0ff4e4a21ce0"
      },
      "execution_count": null,
      "outputs": [
        {
          "output_type": "execute_result",
          "data": {
            "text/plain": [
              "[0, 1, 3, 4, 2, 5, 6, 7]"
            ]
          },
          "metadata": {},
          "execution_count": 42
        }
      ]
    },
    {
      "cell_type": "markdown",
      "source": [
        "###**Longest path in DAG**"
      ],
      "metadata": {
        "id": "4kT5Iz1q5sTI"
      }
    },
    {
      "cell_type": "code",
      "source": [
        "def longestpath(AList):\n",
        "  (indegree, longestpathto, toposortlist) = ({}, {}, [])\n",
        "  for u in AList.keys():\n",
        "    indegree[u] = 0\n",
        "    longestpathto[u] = 0\n",
        "  for u in AList.keys():\n",
        "    for v in AList[u]:\n",
        "      indegree[v] += 1\n",
        "  \n",
        "  longestpathq = Queue()\n",
        "  for u in AList.keys():\n",
        "    if(indegree[u]==0):\n",
        "      longestpathq.addq(u)\n",
        "  \n",
        "  while(not  longestpathq.isEmpty()):\n",
        "    u = longestpathq.delq()\n",
        "    indegree[u] -= 1\n",
        "    toposortlist.append(u)\n",
        "    for v in AList[u]:\n",
        "      indegree[v]-=1\n",
        "      longestpathto[v] = max(longestpathto[v],longestpathto[u]+1)\n",
        "      if(indegree[v]==0):\n",
        "        longestpathq.addq(v)\n",
        "  \n",
        "  return(toposortlist, longestpathto)"
      ],
      "metadata": {
        "id": "zlOjOpE55w-Y"
      },
      "execution_count": null,
      "outputs": []
    },
    {
      "cell_type": "code",
      "source": [
        "dagedges = [(0,2),(0,3),(0,4),(1,2),(1,7),(2,5),(3,5),(3,7),(4,7),(5,6),(6,7), (7,-1)]"
      ],
      "metadata": {
        "id": "byPEFlnu_K7u"
      },
      "execution_count": null,
      "outputs": []
    },
    {
      "cell_type": "code",
      "source": [
        "AList = AdjacencyList(dagedges)\n",
        "AList"
      ],
      "metadata": {
        "colab": {
          "base_uri": "https://localhost:8080/"
        },
        "id": "lnTnNce-_Qsm",
        "outputId": "ab3199a0-a89f-482f-beec-c448e6fe95fc"
      },
      "execution_count": null,
      "outputs": [
        {
          "output_type": "execute_result",
          "data": {
            "text/plain": [
              "{0: [2, 3, 4], 1: [2, 7], 2: [5], 3: [5, 7], 4: [7], 5: [6], 6: [7], 7: []}"
            ]
          },
          "metadata": {},
          "execution_count": 8
        }
      ]
    },
    {
      "cell_type": "code",
      "source": [
        "longestpath(AList)"
      ],
      "metadata": {
        "colab": {
          "base_uri": "https://localhost:8080/"
        },
        "id": "JfoXMSas_YLe",
        "outputId": "81ed5436-ef8d-4004-c613-b2ebed2766a6"
      },
      "execution_count": null,
      "outputs": [
        {
          "output_type": "execute_result",
          "data": {
            "text/plain": [
              "([0, 1, 3, 4, 2, 5, 6, 7], {0: 0, 1: 0, 2: 1, 3: 1, 4: 1, 5: 2, 6: 3, 7: 4})"
            ]
          },
          "metadata": {},
          "execution_count": 13
        }
      ]
    },
    {
      "cell_type": "markdown",
      "source": [
        "#**WEEK-5**\n",
        "\n",
        "###**Shortest path in weighted graphs**\n",
        "\n",
        "- Single source shortest path\n",
        "- All pairs shortest path"
      ],
      "metadata": {
        "id": "U3F2liQF11AF"
      }
    },
    {
      "cell_type": "markdown",
      "source": [
        "###**Single source shortest path**"
      ],
      "metadata": {
        "id": "s76lZF-Y2Fes"
      }
    },
    {
      "cell_type": "code",
      "source": [
        "import numpy as np"
      ],
      "metadata": {
        "id": "7Mp2rkeyLRBw"
      },
      "execution_count": null,
      "outputs": []
    },
    {
      "cell_type": "code",
      "source": [
        "def WeightedMatrix(edges, size):\n",
        "  Wmat = np.zeros(shape=(size, size, 2))\n",
        "  for i, j, k in edges:\n",
        "    (Wmat[i, j, 0], Wmat[i, j, 1]) = (1, k)\n",
        "  return(Wmat)"
      ],
      "metadata": {
        "id": "S8YsKpTZLTyM"
      },
      "execution_count": null,
      "outputs": []
    },
    {
      "cell_type": "code",
      "source": [
        "def dijkstra(Wmat, source):\n",
        "  #(row, col, x) = Wmat.shape\n",
        "  (row, col, x) = Wmat.shape\n",
        "  (visited, distance) = ({}, {})\n",
        "\n",
        "  infinity = np.max(Wmat)*row + 1   # max value\n",
        "\n",
        "  for vertex in range(row):\n",
        "    visited[vertex] = False\n",
        "    distance[vertex] = infinity\n",
        "  \n",
        "  distance[source] = 0\n",
        "\n",
        "  for u in range(row):\n",
        "    nextd = min([distance[v] for v in range(row) \n",
        "                              if not visited[v]])\n",
        "    nextvlist = [v for v in range(row) \n",
        "                    if not visited[v] and \n",
        "                        distance[v]==nextd]\n",
        "\n",
        "    if(nextvlist == []):\n",
        "      break\n",
        "    nextv = min(nextvlist) \n",
        "\n",
        "    visited[nextv] = True \n",
        "    for v in range(col):\n",
        "      if(Wmat[nextv, v, 0]==1 and (not visited[v])):\n",
        "        distance[v] = min(distance[v], distance[nextv]+Wmat[nextv, v, 1])\n",
        "  return(distance)"
      ],
      "metadata": {
        "id": "2ghhHxtL2KjG"
      },
      "execution_count": null,
      "outputs": []
    },
    {
      "cell_type": "code",
      "source": [
        "edges = [(0, 1, 10), (0, 2, 80), (1, 0, 10), (1, 2, 6), (1, 4, 20), (2, 0, 80), (2, 1, 6), (2, 3, 70),\n",
        "         (3, 2, 70), (4, 5, 50), (4, 1, 20), (4, 6, 5), (5, 4, 50), (5, 6, 35), (6, 4, 5), (6, 5, 10)]"
      ],
      "metadata": {
        "id": "Z9ETUoNQLrzO"
      },
      "execution_count": null,
      "outputs": []
    },
    {
      "cell_type": "code",
      "source": [
        "Wmat = WeightedMatrix(edges, 7)\n",
        "Wmat"
      ],
      "metadata": {
        "colab": {
          "base_uri": "https://localhost:8080/"
        },
        "id": "bJcdX1sNMZiu",
        "outputId": "e3f0b797-5e98-493f-a75c-6cadbb2809fb"
      },
      "execution_count": null,
      "outputs": [
        {
          "output_type": "execute_result",
          "data": {
            "text/plain": [
              "array([[[ 0.,  0.],\n",
              "        [ 1., 10.],\n",
              "        [ 1., 80.],\n",
              "        [ 0.,  0.],\n",
              "        [ 0.,  0.],\n",
              "        [ 0.,  0.],\n",
              "        [ 0.,  0.]],\n",
              "\n",
              "       [[ 1., 10.],\n",
              "        [ 0.,  0.],\n",
              "        [ 1.,  6.],\n",
              "        [ 0.,  0.],\n",
              "        [ 1., 20.],\n",
              "        [ 0.,  0.],\n",
              "        [ 0.,  0.]],\n",
              "\n",
              "       [[ 1., 80.],\n",
              "        [ 1.,  6.],\n",
              "        [ 0.,  0.],\n",
              "        [ 1., 70.],\n",
              "        [ 0.,  0.],\n",
              "        [ 0.,  0.],\n",
              "        [ 0.,  0.]],\n",
              "\n",
              "       [[ 0.,  0.],\n",
              "        [ 0.,  0.],\n",
              "        [ 1., 70.],\n",
              "        [ 0.,  0.],\n",
              "        [ 0.,  0.],\n",
              "        [ 0.,  0.],\n",
              "        [ 0.,  0.]],\n",
              "\n",
              "       [[ 0.,  0.],\n",
              "        [ 1., 20.],\n",
              "        [ 0.,  0.],\n",
              "        [ 0.,  0.],\n",
              "        [ 0.,  0.],\n",
              "        [ 1., 50.],\n",
              "        [ 1.,  5.]],\n",
              "\n",
              "       [[ 0.,  0.],\n",
              "        [ 0.,  0.],\n",
              "        [ 0.,  0.],\n",
              "        [ 0.,  0.],\n",
              "        [ 1., 50.],\n",
              "        [ 0.,  0.],\n",
              "        [ 1., 35.]],\n",
              "\n",
              "       [[ 0.,  0.],\n",
              "        [ 0.,  0.],\n",
              "        [ 0.,  0.],\n",
              "        [ 0.,  0.],\n",
              "        [ 1.,  5.],\n",
              "        [ 1., 10.],\n",
              "        [ 0.,  0.]]])"
            ]
          },
          "metadata": {},
          "execution_count": 21
        }
      ]
    },
    {
      "cell_type": "code",
      "source": [
        "Wmat.shape"
      ],
      "metadata": {
        "colab": {
          "base_uri": "https://localhost:8080/"
        },
        "id": "gQNl44-VLRjk",
        "outputId": "3505cdc4-fbab-49b4-b2f5-6beb88ff8f95"
      },
      "execution_count": null,
      "outputs": [
        {
          "output_type": "execute_result",
          "data": {
            "text/plain": [
              "(7, 7, 2)"
            ]
          },
          "metadata": {},
          "execution_count": 7
        }
      ]
    },
    {
      "cell_type": "code",
      "source": [
        "dijkstra(Wmat, 0)"
      ],
      "metadata": {
        "colab": {
          "base_uri": "https://localhost:8080/"
        },
        "id": "7PrUrxAyPS1m",
        "outputId": "cc34f389-6cfc-4a75-d2c0-6d89e8a0fc92"
      },
      "execution_count": null,
      "outputs": [
        {
          "output_type": "execute_result",
          "data": {
            "text/plain": [
              "{0: 0, 1: 10.0, 2: 16.0, 3: 86.0, 4: 30.0, 5: 45.0, 6: 35.0}"
            ]
          },
          "metadata": {},
          "execution_count": 22
        }
      ]
    },
    {
      "cell_type": "markdown",
      "source": [
        "**Using adjacency list**"
      ],
      "metadata": {
        "id": "bAT_hfWtkYDM"
      }
    },
    {
      "cell_type": "code",
      "source": [
        "def dijkstralist(WList, source):\n",
        "  (visited, distance) = ({}, {})\n",
        "\n",
        "  infinity = 1 + len(WList.keys())*(max([d for u in WList.keys() for (v, d) in WList[u]]))\n",
        "\n",
        "  for i in WList.keys():\n",
        "    (visited[i], distance[i]) = (False, infinity)\n",
        "\n",
        "  distance[source] = 0\n",
        "  for u in WList.keys():\n",
        "    nextd = min([distance[v] for v in WList.keys() if not visited[v]])\n",
        "    nextvlist = [v for v in WList.keys() if not visited[v] and (distance[v]==nextd)]\n",
        "\n",
        "    if(nextvlist==[]):\n",
        "      break\n",
        "\n",
        "    nextv = min(nextvlist)\n",
        "    visited[nextv] = True\n",
        "    \n",
        "    for (v,d) in WList[nextv]:\n",
        "      if(not(visited[v])):\n",
        "        distance[v] = min(distance[v], distance[nextv]+d)\n",
        "  return(distance)"
      ],
      "metadata": {
        "id": "hlDaDhY-lfhy"
      },
      "execution_count": null,
      "outputs": []
    },
    {
      "cell_type": "code",
      "source": [
        "def WeightedAdjacencyList(edges):\n",
        "  WList = {}\n",
        "  for i, j, k in edges:\n",
        "    WList[i] = []\n",
        "  for i, j, k in edges:\n",
        "    WList[i] += [(j, k)]\n",
        "  return(WList)"
      ],
      "metadata": {
        "id": "T8ynUo8YkXtn"
      },
      "execution_count": null,
      "outputs": []
    },
    {
      "cell_type": "code",
      "source": [
        "edges = [(0, 1, 10), (0, 2, 80), (1, 0, 10), (1, 2, 6), (1, 4, 20), (2, 0, 80), (2, 1, 6), (2, 3, 70),\n",
        "         (3, 2, 70), (4, 5, 50), (4, 1, 20), (4, 6, 5), (5, 4, 50), (5, 6, 35), (6, 4, 5), (6, 5, 10)]"
      ],
      "metadata": {
        "id": "ctu9jfvblIFP"
      },
      "execution_count": null,
      "outputs": []
    },
    {
      "cell_type": "code",
      "source": [
        "edges = [(1, 2, 3), (1, 4, 5), (2, 1, 2), (2, 4, 4), (3, 2, 1), (4, 3, 2)]"
      ],
      "metadata": {
        "id": "4L8UhR6IpZkY"
      },
      "execution_count": null,
      "outputs": []
    },
    {
      "cell_type": "code",
      "source": [
        "WList = WeightedAdjacencyList(edges)\n",
        "WList"
      ],
      "metadata": {
        "colab": {
          "base_uri": "https://localhost:8080/"
        },
        "id": "530M6gn4lKHU",
        "outputId": "5da9c233-ec12-4576-ced6-c6a96ca389d9"
      },
      "execution_count": null,
      "outputs": [
        {
          "output_type": "execute_result",
          "data": {
            "text/plain": [
              "{0: [(1, 10), (2, 80)],\n",
              " 1: [(0, 10), (2, 6), (4, 20)],\n",
              " 2: [(0, 80), (1, 6), (3, 70)],\n",
              " 3: [(2, 70)],\n",
              " 4: [(5, 50), (1, 20), (6, 5)],\n",
              " 5: [(4, 50), (6, 35)],\n",
              " 6: [(4, 5), (5, 10)]}"
            ]
          },
          "metadata": {},
          "execution_count": 16
        }
      ]
    },
    {
      "cell_type": "code",
      "source": [
        "dijkstralist(WList, 0)"
      ],
      "metadata": {
        "colab": {
          "base_uri": "https://localhost:8080/"
        },
        "id": "kbUnqvZOnhio",
        "outputId": "8c3755ba-0139-4bed-8fd1-ddd760a0e450"
      },
      "execution_count": null,
      "outputs": [
        {
          "output_type": "execute_result",
          "data": {
            "text/plain": [
              "{0: 0, 1: 10, 2: 16, 3: 86, 4: 30, 5: 45, 6: 35}"
            ]
          },
          "metadata": {},
          "execution_count": 19
        }
      ]
    },
    {
      "cell_type": "markdown",
      "source": [
        "###**BELLMAN-FORD ALGORITHM**\n",
        "- Single source shortest path\n",
        "- Used in graph with negative edge weights"
      ],
      "metadata": {
        "id": "7XXJ4xdDcBCK"
      }
    },
    {
      "cell_type": "code",
      "source": [
        "def bellmanford(Wmat, s):\n",
        "  (row, col, x) = Wmat.shape\n",
        "  infinity = np.max(Wmat)*row+1 \n",
        "\n",
        "  distance = {}\n",
        "  for v in range(row):\n",
        "    distance[v] = infinity\n",
        "\n",
        "  distance[s] = 0\n",
        "  for i in range(row):\n",
        "    for u in range(row):\n",
        "      for v in range(col):\n",
        "        if Wmat[u, v, 0]==1:\n",
        "          distance[v] = min(distance[v], Wmat[u, v, 1]+distance[u])\n",
        "  return(distance)"
      ],
      "metadata": {
        "id": "pXRHMjP0cOoV"
      },
      "execution_count": null,
      "outputs": []
    },
    {
      "cell_type": "code",
      "source": [
        "edges = [(0,1,10),(0,7,8),(1,5,2),(2,1,1),(2,3,1),(3,4,3),(4,5,-1),(5,2,-2),(6,1,-4),(6,5,-1),(7,6,1)]"
      ],
      "metadata": {
        "id": "2wx-Hn17dW5b"
      },
      "execution_count": null,
      "outputs": []
    },
    {
      "cell_type": "code",
      "source": [
        "Wmat = WeightedMatrix(edges, 8)\n",
        "Wmat"
      ],
      "metadata": {
        "colab": {
          "base_uri": "https://localhost:8080/"
        },
        "id": "iQsqHxoVdktE",
        "outputId": "233e2440-2982-4ade-97fa-d64e89fde677"
      },
      "execution_count": null,
      "outputs": [
        {
          "output_type": "execute_result",
          "data": {
            "text/plain": [
              "array([[[ 0.,  0.],\n",
              "        [ 1., 10.],\n",
              "        [ 0.,  0.],\n",
              "        [ 0.,  0.],\n",
              "        [ 0.,  0.],\n",
              "        [ 0.,  0.],\n",
              "        [ 0.,  0.],\n",
              "        [ 1.,  8.]],\n",
              "\n",
              "       [[ 0.,  0.],\n",
              "        [ 0.,  0.],\n",
              "        [ 0.,  0.],\n",
              "        [ 0.,  0.],\n",
              "        [ 0.,  0.],\n",
              "        [ 1.,  2.],\n",
              "        [ 0.,  0.],\n",
              "        [ 0.,  0.]],\n",
              "\n",
              "       [[ 0.,  0.],\n",
              "        [ 1.,  1.],\n",
              "        [ 0.,  0.],\n",
              "        [ 1.,  1.],\n",
              "        [ 0.,  0.],\n",
              "        [ 0.,  0.],\n",
              "        [ 0.,  0.],\n",
              "        [ 0.,  0.]],\n",
              "\n",
              "       [[ 0.,  0.],\n",
              "        [ 0.,  0.],\n",
              "        [ 0.,  0.],\n",
              "        [ 0.,  0.],\n",
              "        [ 1.,  3.],\n",
              "        [ 0.,  0.],\n",
              "        [ 0.,  0.],\n",
              "        [ 0.,  0.]],\n",
              "\n",
              "       [[ 0.,  0.],\n",
              "        [ 0.,  0.],\n",
              "        [ 0.,  0.],\n",
              "        [ 0.,  0.],\n",
              "        [ 0.,  0.],\n",
              "        [ 1., -1.],\n",
              "        [ 0.,  0.],\n",
              "        [ 0.,  0.]],\n",
              "\n",
              "       [[ 0.,  0.],\n",
              "        [ 0.,  0.],\n",
              "        [ 1., -2.],\n",
              "        [ 0.,  0.],\n",
              "        [ 0.,  0.],\n",
              "        [ 0.,  0.],\n",
              "        [ 0.,  0.],\n",
              "        [ 0.,  0.]],\n",
              "\n",
              "       [[ 0.,  0.],\n",
              "        [ 1., -4.],\n",
              "        [ 0.,  0.],\n",
              "        [ 0.,  0.],\n",
              "        [ 0.,  0.],\n",
              "        [ 1., -1.],\n",
              "        [ 0.,  0.],\n",
              "        [ 0.,  0.]],\n",
              "\n",
              "       [[ 0.,  0.],\n",
              "        [ 0.,  0.],\n",
              "        [ 0.,  0.],\n",
              "        [ 0.,  0.],\n",
              "        [ 0.,  0.],\n",
              "        [ 0.,  0.],\n",
              "        [ 1.,  1.],\n",
              "        [ 0.,  0.]]])"
            ]
          },
          "metadata": {},
          "execution_count": 26
        }
      ]
    },
    {
      "cell_type": "code",
      "source": [
        "bellmanford(Wmat, 0)"
      ],
      "metadata": {
        "colab": {
          "base_uri": "https://localhost:8080/"
        },
        "id": "5Q7ZqtYxdpH_",
        "outputId": "da0120be-8f3a-4bfe-b12f-1fd7004c6b61"
      },
      "execution_count": null,
      "outputs": [
        {
          "output_type": "execute_result",
          "data": {
            "text/plain": [
              "{0: 0, 1: 5.0, 2: 5.0, 3: 6.0, 4: 9.0, 5: 7.0, 6: 9.0, 7: 8.0}"
            ]
          },
          "metadata": {},
          "execution_count": 29
        }
      ]
    },
    {
      "cell_type": "markdown",
      "source": [
        "###BELLMAN-FORD\n",
        "\n",
        "- Own approach"
      ],
      "metadata": {
        "id": "zmOdlfockuV1"
      }
    },
    {
      "cell_type": "code",
      "source": [
        "def WeightedAdjacencyList(edges, size):\n",
        "  WList = {}\n",
        "  for i in range(size):\n",
        "    WList[i] = []\n",
        "  for (u, v, w) in edges:\n",
        "    WList[u].append((v, w))\n",
        "  return(WList)"
      ],
      "metadata": {
        "id": "9CPGxGm5k28e"
      },
      "execution_count": null,
      "outputs": []
    },
    {
      "cell_type": "code",
      "source": [
        "def bellmanfordown(WList, s):        # using adjacency list\n",
        "  infinity = 1 + max([w for u in WList.keys()\n",
        "                        for (v, w) in WList[u]])*len(WList.keys())\n",
        "  distance = {}\n",
        "  for u in WList.keys():\n",
        "    distance[u] = infinity\n",
        "\n",
        "  distance[s] = 0\n",
        "  bellmanq = Queue()  # using a queue\n",
        "  bellmanq.addq(s)\n",
        "\n",
        "  while(not bellmanq.isEmpty()):\n",
        "    u = bellmanq.delq()\n",
        "\n",
        "    for (v, d) in WList[u]:\n",
        "      if distance[v] > distance[u]+d:\n",
        "        distance[v] = distance[u]+d  # whenever a vertex in updated it is added to the queue\n",
        "        bellmanq.addq(v)\n",
        "  return(distance)"
      ],
      "metadata": {
        "id": "hEh5YzjLkt_m"
      },
      "execution_count": null,
      "outputs": []
    },
    {
      "cell_type": "code",
      "source": [
        "WList = WeightedAdjacencyList(edges, 8)\n",
        "WList"
      ],
      "metadata": {
        "colab": {
          "base_uri": "https://localhost:8080/"
        },
        "id": "8OzI4UJElMPI",
        "outputId": "ac45cd8c-ff16-4e0e-80fb-c9826fad9b71"
      },
      "execution_count": null,
      "outputs": [
        {
          "output_type": "execute_result",
          "data": {
            "text/plain": [
              "{0: [(1, 10), (7, 8)],\n",
              " 1: [(5, 2)],\n",
              " 2: [(1, 1), (3, 1)],\n",
              " 3: [(4, 3)],\n",
              " 4: [(5, -1)],\n",
              " 5: [(2, -2)],\n",
              " 6: [(1, -4), (5, -1)],\n",
              " 7: [(6, 1)]}"
            ]
          },
          "metadata": {},
          "execution_count": 32
        }
      ]
    },
    {
      "cell_type": "code",
      "source": [
        "bellmanfordown(WList, 0)"
      ],
      "metadata": {
        "colab": {
          "base_uri": "https://localhost:8080/"
        },
        "id": "GxrWWfy4mSfY",
        "outputId": "ac116a05-3dd9-4e3e-f299-f61a03e510cd"
      },
      "execution_count": null,
      "outputs": [
        {
          "output_type": "execute_result",
          "data": {
            "text/plain": [
              "{0: 0, 1: 5, 2: 5, 3: 6, 4: 9, 5: 7, 6: 9, 7: 8}"
            ]
          },
          "metadata": {},
          "execution_count": 35
        }
      ]
    },
    {
      "cell_type": "markdown",
      "source": [
        "##**ALL-PAIRS SHORTEST PATH**"
      ],
      "metadata": {
        "id": "y1ztddSatwjd"
      }
    },
    {
      "cell_type": "code",
      "source": [
        "import numpy as np"
      ],
      "metadata": {
        "id": "pM4N6EqDt0S3"
      },
      "execution_count": null,
      "outputs": []
    },
    {
      "cell_type": "code",
      "source": [
        "SP = np.zeros(shape=(3, 3, 4))\n",
        "SP"
      ],
      "metadata": {
        "colab": {
          "base_uri": "https://localhost:8080/"
        },
        "id": "XISLJS1A07Eg",
        "outputId": "d023de20-3b97-46af-cfa9-1be0532d3310"
      },
      "execution_count": null,
      "outputs": [
        {
          "output_type": "execute_result",
          "data": {
            "text/plain": [
              "array([[[0., 0., 0., 0.],\n",
              "        [0., 0., 0., 0.],\n",
              "        [0., 0., 0., 0.]],\n",
              "\n",
              "       [[0., 0., 0., 0.],\n",
              "        [0., 0., 0., 0.],\n",
              "        [0., 0., 0., 0.]],\n",
              "\n",
              "       [[0., 0., 0., 0.],\n",
              "        [0., 0., 0., 0.],\n",
              "        [0., 0., 0., 0.]]])"
            ]
          },
          "metadata": {},
          "execution_count": 6
        }
      ]
    },
    {
      "cell_type": "code",
      "source": [
        "for i in range(3):\n",
        "  for j in range(3):\n",
        "    SP[i, j, 0] = 100\n",
        "SP"
      ],
      "metadata": {
        "colab": {
          "base_uri": "https://localhost:8080/"
        },
        "id": "hO4TetrY3TNu",
        "outputId": "25c32bca-94fb-4634-9b57-c425b31621e5"
      },
      "execution_count": null,
      "outputs": [
        {
          "output_type": "execute_result",
          "data": {
            "text/plain": [
              "array([[[100.,   0.,   0.,   0.],\n",
              "        [100.,   0.,   0.,   0.],\n",
              "        [100.,   0.,   0.,   0.]],\n",
              "\n",
              "       [[100.,   0.,   0.,   0.],\n",
              "        [100.,   0.,   0.,   0.],\n",
              "        [100.,   0.,   0.,   0.]],\n",
              "\n",
              "       [[100.,   0.,   0.,   0.],\n",
              "        [100.,   0.,   0.,   0.],\n",
              "        [100.,   0.,   0.,   0.]]])"
            ]
          },
          "metadata": {},
          "execution_count": 11
        }
      ]
    },
    {
      "cell_type": "markdown",
      "source": [
        "#MINIMUM COST SPANNING TREE\n",
        "\n",
        "- Prim's Algorithm\n",
        "- Kruskal's Algorithm"
      ],
      "metadata": {
        "id": "a86AsKjAXIz_"
      }
    },
    {
      "cell_type": "markdown",
      "source": [
        "###Prim's Algorithm\n",
        "O(n^3)"
      ],
      "metadata": {
        "id": "_EKFrZRsXQJ8"
      }
    },
    {
      "cell_type": "code",
      "source": [
        "def primlist(WList):\n",
        "  (tvertices, tedges, distance) = ({}, [], {})\n",
        "  infinity = 1 + max([d for u in WList.keys()\n",
        "                          for (v,d) in WList[u]])*len(WList.keys())\n",
        "  for v in WList.keys():\n",
        "    (distance[v], tvertices[v]) = (infinity, False)\n",
        "  \n",
        "  tvertices[0] = True\n",
        "  for (v,d) in WList[0]:\n",
        "    distance[v] = d \n",
        "  \n",
        "  for i in WList.keys():\n",
        "    (mindist, nextv) = (infinity, None)\n",
        "\n",
        "    for u in WList.keys():\n",
        "      for (v,d) in WList[u]:\n",
        "        if tvertices[u] and (not tvertices[v]) and d < mindist:\n",
        "          (mindist, nextv, nexte) = (d, v, (u,v))\n",
        "    if nextv is None:\n",
        "      break\n",
        "    \n",
        "    tedges.append(nexte)\n",
        "    tvertices[nextv] = True\n",
        "    for (v,d) in WList[nextv]:\n",
        "      if not tvertices[v]:\n",
        "        distance[v] = min(distance[v], d)  # update the distances of neigbours of most recently visited vertex\n",
        "  return(tedges)"
      ],
      "metadata": {
        "id": "WTQxk0j2XTna"
      },
      "execution_count": null,
      "outputs": []
    },
    {
      "cell_type": "code",
      "source": [
        "def WeightedList(edges, size):\n",
        "  WList = {}\n",
        "  for i in range(size):\n",
        "    WList[i] = []\n",
        "  for (u,v,d) in edges:\n",
        "    WList[u] += [(v,d)]\n",
        "  return(WList)"
      ],
      "metadata": {
        "id": "9Ag-jKtM5hIP"
      },
      "execution_count": null,
      "outputs": []
    },
    {
      "cell_type": "code",
      "source": [
        "edges = [(0,1,10),(0,3,18),(1,0,10),(1,3,6),(1,2,20),(2,1,20),\n",
        "          (2,4,8),(3,0,18),(3,1,6),(3,4,70),(4,3,70),(4,2,8)]"
      ],
      "metadata": {
        "id": "9dNEFFdE5EfZ"
      },
      "execution_count": null,
      "outputs": []
    },
    {
      "cell_type": "code",
      "source": [
        "WList = WeightedList(edges, 5)"
      ],
      "metadata": {
        "id": "rfUcMo0X5d78"
      },
      "execution_count": null,
      "outputs": []
    },
    {
      "cell_type": "code",
      "source": [
        "WList"
      ],
      "metadata": {
        "colab": {
          "base_uri": "https://localhost:8080/"
        },
        "id": "5fRBUxd65_94",
        "outputId": "494791e2-4937-4256-cc72-d7a07d58d40b"
      },
      "execution_count": null,
      "outputs": [
        {
          "output_type": "execute_result",
          "data": {
            "text/plain": [
              "{0: [(1, 10), (3, 18)],\n",
              " 1: [(0, 10), (3, 6), (2, 20)],\n",
              " 2: [(1, 20), (4, 8)],\n",
              " 3: [(0, 18), (1, 6), (4, 70)],\n",
              " 4: [(3, 70), (2, 8)]}"
            ]
          },
          "metadata": {},
          "execution_count": 16
        }
      ]
    },
    {
      "cell_type": "code",
      "source": [
        "primlist(WList)"
      ],
      "metadata": {
        "colab": {
          "base_uri": "https://localhost:8080/"
        },
        "id": "SidpE2e86Okl",
        "outputId": "168dc33e-30e2-4e56-8840-124800d43217"
      },
      "execution_count": null,
      "outputs": [
        {
          "output_type": "execute_result",
          "data": {
            "text/plain": [
              "[(0, 1), (1, 3), (1, 2), (2, 4)]"
            ]
          },
          "metadata": {},
          "execution_count": 19
        }
      ]
    },
    {
      "cell_type": "markdown",
      "source": [
        "###**KRUSKAL'S ALGORITHM**"
      ],
      "metadata": {
        "id": "OkHCYz6KIpZw"
      }
    },
    {
      "cell_type": "code",
      "source": [
        "def kruskal(WList):\n",
        "  (edges, TE, component) = ([], [], {})\n",
        "\n",
        "  for u in WList.keys():\n",
        "    component[u] = u\n",
        "\n",
        "  for u in WList.keys():\n",
        "    for (v, d) in WList[u]:\n",
        "      edges += [(d, u, v)]\n",
        "  edges.sort()\n",
        "\n",
        "  for (d, u, v) in edges:\n",
        "    if component[u] != component[v]:\n",
        "      TE.append((u,v))\n",
        "      c = component[u]\n",
        "      for w in WList.keys():\n",
        "        if component[w]==c:\n",
        "          component[w] = component[v] \n",
        "  return(TE)"
      ],
      "metadata": {
        "id": "qiyWk-1bIniX"
      },
      "execution_count": null,
      "outputs": []
    },
    {
      "cell_type": "code",
      "source": [
        "def WeightedList(edges, size):\n",
        "  WList = {}\n",
        "  for i in range(size):\n",
        "    WList[i] = []\n",
        "  for (u,v,d) in edges:\n",
        "    WList[u] += [(v,d)]\n",
        "  return(WList)"
      ],
      "metadata": {
        "id": "yUjAypEQLrJ-"
      },
      "execution_count": null,
      "outputs": []
    },
    {
      "cell_type": "code",
      "source": [
        "edges = [(0,1,10),(0,3,18),(1,0,10),(1,3,6),(1,2,20),(2,1,20),\n",
        "          (2,4,8),(3,0,18),(3,1,6),(3,4,70),(4,3,70),(4,2,8)]"
      ],
      "metadata": {
        "id": "co33qHDqK78Y"
      },
      "execution_count": null,
      "outputs": []
    },
    {
      "cell_type": "code",
      "source": [
        "WList = WeightedList(edges, 5)"
      ],
      "metadata": {
        "id": "rWKeioueLpgE"
      },
      "execution_count": null,
      "outputs": []
    },
    {
      "cell_type": "code",
      "source": [
        "kruskal(WList)"
      ],
      "metadata": {
        "colab": {
          "base_uri": "https://localhost:8080/"
        },
        "id": "qWbG0EaZMDSY",
        "outputId": "35236c77-8f23-4430-a6c4-6c57b5880e19"
      },
      "execution_count": null,
      "outputs": [
        {
          "output_type": "execute_result",
          "data": {
            "text/plain": [
              "[(1, 3), (2, 4), (0, 1), (1, 2)]"
            ]
          },
          "metadata": {},
          "execution_count": 8
        }
      ]
    },
    {
      "cell_type": "markdown",
      "source": [
        "#**WEEK-6**\n",
        "\n",
        "###**UNION-FIND DATA STRUCTURE**\n",
        "\n",
        "- Solving Kruskal's Algorithm using Union-Find Data Structure"
      ],
      "metadata": {
        "id": "APQ2uOCbNBOj"
      }
    },
    {
      "cell_type": "code",
      "source": [
        "(Members, component, size) = ({}, {}, {})"
      ],
      "metadata": {
        "id": "YB4b2jKpNDbT"
      },
      "execution_count": null,
      "outputs": []
    },
    {
      "cell_type": "code",
      "source": [
        "def find(v):\n",
        "  return(component[v])"
      ],
      "metadata": {
        "id": "tJ2ltMAoXbvK"
      },
      "execution_count": null,
      "outputs": []
    },
    {
      "cell_type": "code",
      "source": [
        "def union(u, v):\n",
        "  c_old = component[u]\n",
        "  c_new = component[v]\n",
        "  \n",
        "  if(size[c_old] > size[c_new]):\n",
        "    (c_old, c_new) = (c_new, c_old)\n",
        "  \n",
        "  for k in Members[c_old]:\n",
        "    component[k] = c_new \n",
        "    Members[c_new] += [k]\n",
        "    size[c_new] += 1"
      ],
      "metadata": {
        "id": "-qtUfxUPXgPJ"
      },
      "execution_count": null,
      "outputs": []
    },
    {
      "cell_type": "code",
      "source": [
        "def MakeUnionFind(WList):\n",
        "  for u in WList.keys():\n",
        "    Members[u] = [u]\n",
        "    size[u] = 1"
      ],
      "metadata": {
        "id": "vZ7BvO-qYe-C"
      },
      "execution_count": null,
      "outputs": []
    },
    {
      "cell_type": "code",
      "source": [
        "def kruskal(WList):\n",
        "  (edges, TE) = ([], [])\n",
        "  for u in WList.keys():\n",
        "    component[u] = u\n",
        "  \n",
        "  for u in WList.keys():\n",
        "    for v,d in WList[u]:\n",
        "      edges += [(d,u,v)]\n",
        "  edges.sort()\n",
        "  MakeUnionFind(WList)\n",
        "\n",
        "  for (d, u, v) in edges:\n",
        "    if find(u) != find(v):\n",
        "      TE.append((u,v))\n",
        "      union(u, v)\n",
        "  return(TE)"
      ],
      "metadata": {
        "id": "cZ_XO3BxYHLp"
      },
      "execution_count": null,
      "outputs": []
    },
    {
      "cell_type": "code",
      "source": [
        "def WeightedList(edges, size):\n",
        "  WList = {}\n",
        "  for i in range(size):\n",
        "    WList[i] = []\n",
        "  for (u,v,d) in edges:\n",
        "    WList[u] += [(v,d)]\n",
        "  return(WList)"
      ],
      "metadata": {
        "id": "u_THtJesZx_8"
      },
      "execution_count": null,
      "outputs": []
    },
    {
      "cell_type": "code",
      "source": [
        "edges = [(0,1,10),(0,3,18),(1,0,10),(1,3,6),(1,2,20),(2,1,20),\n",
        "          (2,4,8),(3,0,18),(3,1,6),(3,4,70),(4,3,70),(4,2,8)]"
      ],
      "metadata": {
        "id": "bnRGScDVZstZ"
      },
      "execution_count": null,
      "outputs": []
    },
    {
      "cell_type": "code",
      "source": [
        "WList = WeightedList(edges, 5)"
      ],
      "metadata": {
        "id": "wlIuyxaGaw5X"
      },
      "execution_count": null,
      "outputs": []
    },
    {
      "cell_type": "code",
      "source": [
        "kruskal(WList)"
      ],
      "metadata": {
        "colab": {
          "base_uri": "https://localhost:8080/"
        },
        "id": "U2qsWTYva6dQ",
        "outputId": "2353a32d-0d36-4fe6-c8ce-d0b765354744"
      },
      "execution_count": null,
      "outputs": [
        {
          "output_type": "execute_result",
          "data": {
            "text/plain": [
              "[(1, 3), (2, 4), (0, 1), (1, 2)]"
            ]
          },
          "metadata": {},
          "execution_count": 31
        }
      ]
    }
  ]
}